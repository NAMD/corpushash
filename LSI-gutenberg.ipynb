{
 "cells": [
  {
   "cell_type": "markdown",
   "metadata": {
    "deletable": true,
    "editable": true
   },
   "source": [
    "# Clustering the gutenberg corpus"
   ]
  },
  {
   "cell_type": "code",
   "execution_count": 12,
   "metadata": {
    "collapsed": false,
    "deletable": true,
    "editable": true
   },
   "outputs": [],
   "source": [
    "import gensim\n",
    "import logging, bz2, os\n",
    "from corpushash import CorpusHash\n",
    "from nltk.corpus import gutenberg\n",
    "import numpy as np\n",
    "import string\n",
    "from gensim import corpora, models, similarities"
   ]
  },
  {
   "cell_type": "code",
   "execution_count": 13,
   "metadata": {
    "collapsed": true,
    "deletable": true,
    "editable": true
   },
   "outputs": [],
   "source": [
    "logging.basicConfig(format='%(asctime)s : %(levelname)s : %(message)s', level=logging.INFO)"
   ]
  },
  {
   "cell_type": "code",
   "execution_count": 14,
   "metadata": {
    "collapsed": false
   },
   "outputs": [],
   "source": [
    "np.random.seed(42)"
   ]
  },
  {
   "cell_type": "code",
   "execution_count": 15,
   "metadata": {
    "collapsed": false
   },
   "outputs": [
    {
     "name": "stdout",
     "output_type": "stream",
     "text": [
      "CPU times: user 19.2 s, sys: 392 ms, total: 19.6 s\n",
      "Wall time: 19.6 s\n"
     ]
    }
   ],
   "source": [
    "%%time\n",
    "decoded_gutencorpus = []\n",
    "for document_name in gutenberg.fileids():\n",
    "    document = [word.lower() for word in gutenberg.words(document_name) if word not in string.punctuation and not word.isdigit()]\n",
    "    decoded_gutencorpus.append(document)"
   ]
  },
  {
   "cell_type": "code",
   "execution_count": 16,
   "metadata": {
    "collapsed": false
   },
   "outputs": [
    {
     "name": "stderr",
     "output_type": "stream",
     "text": [
      "2017-05-22 21:37:39,599 : INFO : adding document #0 to Dictionary(0 unique tokens: [])\n",
      "2017-05-22 21:37:43,520 : INFO : built Dictionary(42020 unique tokens: ['gothic', 'covering', 'crypts', 'unrolling', 'willes']...) from 18 documents (total 2161659 corpus positions)\n"
     ]
    }
   ],
   "source": [
    "id2word = gensim.corpora.Dictionary(decoded_gutencorpus)"
   ]
  },
  {
   "cell_type": "code",
   "execution_count": 17,
   "metadata": {
    "collapsed": false,
    "deletable": true,
    "editable": true
   },
   "outputs": [
    {
     "data": {
      "text/plain": [
       "'covering'"
      ]
     },
     "execution_count": 17,
     "metadata": {},
     "output_type": "execute_result"
    }
   ],
   "source": [
    "id2word[0]"
   ]
  },
  {
   "cell_type": "code",
   "execution_count": 18,
   "metadata": {
    "collapsed": false,
    "editable": true
   },
   "outputs": [
    {
     "name": "stderr",
     "output_type": "stream",
     "text": [
      "2017-05-22 21:37:46,589 : INFO : storing corpus in Matrix Market format to wiki_pt_tfidf.mm\n",
      "2017-05-22 21:37:46,595 : INFO : saving sparse matrix to wiki_pt_tfidf.mm\n",
      "2017-05-22 21:37:46,602 : INFO : PROGRESS: saving document #0\n",
      "2017-05-22 21:37:47,893 : INFO : saved 18x42020 matrix, density=16.126% (121967/756360)\n",
      "2017-05-22 21:37:47,898 : INFO : saving MmCorpus index to wiki_pt_tfidf.mm.index\n"
     ]
    }
   ],
   "source": [
    "mm = [id2word.doc2bow(text) for text in decoded_gutencorpus]\n",
    "gensim.corpora.MmCorpus.serialize('wiki_pt_tfidf.mm', mm)"
   ]
  },
  {
   "cell_type": "code",
   "execution_count": 19,
   "metadata": {
    "collapsed": false,
    "editable": true,
    "scrolled": true
   },
   "outputs": [
    {
     "name": "stderr",
     "output_type": "stream",
     "text": [
      "2017-05-22 21:37:47,930 : INFO : collecting document frequencies\n",
      "2017-05-22 21:37:47,936 : INFO : PROGRESS: processing document #0\n",
      "2017-05-22 21:37:48,104 : INFO : calculating IDF weights for 18 documents and 42019 features (121967 matrix non-zeros)\n"
     ]
    },
    {
     "name": "stdout",
     "output_type": "stream",
     "text": [
      "CPU times: user 320 ms, sys: 16 ms, total: 336 ms\n",
      "Wall time: 345 ms\n"
     ]
    }
   ],
   "source": [
    "%%time\n",
    "if os.path.exists('wiki_tfidf_model'):\n",
    "    tfidf = models.TfidfModel.load('wiki_tfidf_model')\n",
    "else:\n",
    "    tfidf = models.TfidfModel(mm)"
   ]
  },
  {
   "cell_type": "code",
   "execution_count": 20,
   "metadata": {
    "collapsed": false,
    "editable": true
   },
   "outputs": [
    {
     "name": "stderr",
     "output_type": "stream",
     "text": [
      "2017-05-22 21:37:48,295 : INFO : saving TfidfModel object under wiki_tfidf_model, separately None\n",
      "2017-05-22 21:37:48,335 : INFO : saved wiki_tfidf_model\n"
     ]
    }
   ],
   "source": [
    "tfidf.save('wiki_tfidf_model')"
   ]
  },
  {
   "cell_type": "markdown",
   "metadata": {
    "editable": true
   },
   "source": [
    "The next step is to train the LSI model with a tfidf transformed corpus. So we will need yet another generator to yield the transformed corpus."
   ]
  },
  {
   "cell_type": "code",
   "execution_count": 21,
   "metadata": {
    "collapsed": true,
    "editable": true
   },
   "outputs": [],
   "source": [
    "def tfidf_corpus_stream(corpus):\n",
    "    for doc in corpus:\n",
    "        yield tfidf[doc]"
   ]
  },
  {
   "cell_type": "code",
   "execution_count": 22,
   "metadata": {
    "collapsed": false,
    "editable": true
   },
   "outputs": [],
   "source": [
    "tfidf_corpus_s = tfidf_corpus_stream(mm)"
   ]
  },
  {
   "cell_type": "markdown",
   "metadata": {
    "deletable": true,
    "editable": true
   },
   "source": [
    "## Calculating the LSI model"
   ]
  },
  {
   "cell_type": "code",
   "execution_count": 23,
   "metadata": {
    "collapsed": false,
    "deletable": true,
    "editable": true
   },
   "outputs": [
    {
     "name": "stderr",
     "output_type": "stream",
     "text": [
      "2017-05-22 21:37:48,439 : INFO : loading LsiModel object from wiki_lsi_model\n",
      "2017-05-22 21:37:48,579 : INFO : loading id2word recursively from wiki_lsi_model.id2word.* with mmap=None\n",
      "2017-05-22 21:37:48,585 : INFO : setting ignored attribute dispatcher to None\n",
      "2017-05-22 21:37:48,589 : INFO : setting ignored attribute projection to None\n",
      "2017-05-22 21:37:48,594 : INFO : loaded wiki_lsi_model\n",
      "2017-05-22 21:37:48,598 : INFO : loading LsiModel object from wiki_lsi_model.projection\n",
      "2017-05-22 21:37:48,739 : INFO : loaded wiki_lsi_model.projection\n"
     ]
    }
   ],
   "source": [
    "if os.path.exists('wiki_lsi_model'):\n",
    "    lsi = gensim.models.LsiModel.load('wiki_lsi_model')\n",
    "else:\n",
    "    lsi = gensim.models.lsimodel.LsiModel(corpus=tfidf_corpus_s, id2word=id2word, num_topics=18)\n",
    "    lsi.save('wiki_lsi_model')"
   ]
  },
  {
   "cell_type": "code",
   "execution_count": 24,
   "metadata": {
    "collapsed": false,
    "deletable": true,
    "editable": true,
    "scrolled": true
   },
   "outputs": [
    {
     "name": "stdout",
     "output_type": "stream",
     "text": [
      "====================\n",
      "Topic 0:\n",
      "Coef.\t Token\n",
      "--------------------\n",
      "0.22\tthee\n",
      "0.176\t--\n",
      "0.165\tthou\n",
      "0.158\t.\"\n",
      "0.146\t,\"\n",
      "0.143\tunto\n",
      "0.143\thave\n",
      "0.125\thaue\n",
      "0.12\tflambeau\n",
      "0.114\tthy\n",
      "====================\n",
      "Topic 1:\n",
      "Coef.\t Token\n",
      "--------------------\n",
      "0.422\thaue\n",
      "0.253\tmacb\n",
      "0.195\tham\n",
      "0.19\tbru\n",
      "0.174\tvs\n",
      "0.157\tvpon\n",
      "0.153\tbrutus\n",
      "0.135\tselfe\n",
      "0.133\tcassi\n",
      "0.122\theere\n",
      "====================\n",
      "Topic 2:\n",
      "Coef.\t Token\n",
      "--------------------\n",
      "-0.236\tthee\n",
      "-0.221\tunto\n",
      "-0.164\tthou\n",
      "0.16\telinor\n",
      "0.153\t,\"\n",
      "0.152\tmrs\n",
      "0.147\t.\"\n",
      "0.144\tmr\n",
      "-0.143\tthel\n",
      "0.129\thaue\n",
      "====================\n",
      "Topic 3:\n",
      "Coef.\t Token\n",
      "--------------------\n",
      "0.32\tsyme\n",
      "-0.278\telinor\n",
      "0.253\tturnbull\n",
      "0.237\tbuster\n",
      "0.198\tmacian\n",
      "-0.187\telliot\n",
      "-0.183\tmarianne\n",
      "-0.182\temma\n",
      "-0.174\tmrs\n",
      "0.151\talice\n",
      "====================\n",
      "Topic 4:\n",
      "Coef.\t Token\n",
      "--------------------\n",
      "0.505\tbuster\n",
      "0.443\talice\n",
      "-0.361\tsyme\n",
      "-0.287\tturnbull\n",
      "-0.224\tmacian\n",
      "0.169\tjoe\n",
      "0.151\tblacky\n",
      "0.12\t,'\n",
      "0.119\t!'\n",
      "0.113\tbilly\n",
      "====================\n",
      "Topic 5:\n",
      "Coef.\t Token\n",
      "--------------------\n",
      "-0.639\talice\n",
      "0.45\tbuster\n",
      "-0.176\t,'\n",
      "-0.174\t!'\n",
      "0.152\tjoe\n",
      "0.135\tblacky\n",
      "-0.112\twhale\n",
      "-0.109\tduchess\n",
      "-0.108\tgryphon\n",
      "-0.104\tdormouse\n",
      "====================\n",
      "Topic 6:\n",
      "Coef.\t Token\n",
      "--------------------\n",
      "-0.636\tsyme\n",
      "0.259\tturnbull\n",
      "0.258\twhale\n",
      "0.211\tahab\n",
      "0.202\tmacian\n",
      "-0.169\talice\n",
      "0.142\tstubb\n",
      "0.139\tqueequeg\n",
      "-0.135\tunto\n",
      "-0.132\telinor\n",
      "====================\n",
      "Topic 7:\n",
      "Coef.\t Token\n",
      "--------------------\n",
      "-0.479\tturnbull\n",
      "-0.374\tmacian\n",
      "0.326\tsyme\n",
      "0.267\twhale\n",
      "-0.233\talice\n",
      "0.221\tahab\n",
      "-0.155\tunto\n",
      "0.148\tstubb\n",
      "0.145\tqueequeg\n",
      "-0.124\tevan\n",
      "====================\n",
      "Topic 8:\n",
      "Coef.\t Token\n",
      "--------------------\n",
      "-0.324\tunto\n",
      "0.287\tbuster\n",
      "-0.26\tmargery\n",
      "0.234\tturnbull\n",
      "-0.216\tjackal\n",
      "0.188\tsyme\n",
      "0.183\tmacian\n",
      "0.158\temma\n",
      "-0.156\tdavid\n",
      "-0.124\tisrael\n",
      "====================\n",
      "Topic 9:\n",
      "Coef.\t Token\n",
      "--------------------\n",
      "0.525\telinor\n",
      "0.335\tmarianne\n",
      "-0.324\telliot\n",
      "-0.244\twentworth\n",
      "0.193\tdashwood\n",
      "-0.179\tanne\n",
      "0.176\tjennings\n",
      "-0.147\temma\n",
      "-0.146\tmusgrove\n",
      "-0.126\trussell\n"
     ]
    }
   ],
   "source": [
    "for n in range(10):\n",
    "    print(\"====================\")\n",
    "    print(\"Topic {}:\".format(n))\n",
    "    print(\"Coef.\\t Token\")\n",
    "    print(\"--------------------\")\n",
    "    for tok,coef in lsi.show_topic(n):\n",
    "        print(\"{:.3}\\t{}\".format(coef,tok))"
   ]
  },
  {
   "cell_type": "markdown",
   "metadata": {
    "deletable": true,
    "editable": true
   },
   "source": [
    "# LSI on the hashed corpus"
   ]
  },
  {
   "cell_type": "markdown",
   "metadata": {
    "collapsed": true,
    "deletable": true,
    "editable": true
   },
   "source": [
    "Now all of the original documents have been hashed, and we can run the same analysis we ran with the plain corpus. "
   ]
  },
  {
   "cell_type": "code",
   "execution_count": 25,
   "metadata": {
    "collapsed": false
   },
   "outputs": [],
   "source": [
    "np.random.seed(42)"
   ]
  },
  {
   "cell_type": "code",
   "execution_count": 26,
   "metadata": {
    "collapsed": false,
    "deletable": true,
    "editable": true,
    "scrolled": false
   },
   "outputs": [
    {
     "name": "stderr",
     "output_type": "stream",
     "text": [
      "2017-05-22 21:40:34,387 - corpushash.hashers - INFO - 18 documents hashed and saved to wiki/public/2017-05-22_21-40-04-186540.\n",
      "2017-05-22 21:40:34,387 : INFO : 18 documents hashed and saved to wiki/public/2017-05-22_21-40-04-186540.\n"
     ]
    },
    {
     "name": "stdout",
     "output_type": "stream",
     "text": [
      "CPU times: user 29.3 s, sys: 856 ms, total: 30.2 s\n",
      "Wall time: 30.2 s\n"
     ]
    }
   ],
   "source": [
    "%%time\n",
    "hashed = CorpusHash(decoded_gutencorpus, 'wiki')"
   ]
  },
  {
   "cell_type": "code",
   "execution_count": 27,
   "metadata": {
    "collapsed": false
   },
   "outputs": [
    {
     "name": "stderr",
     "output_type": "stream",
     "text": [
      "2017-05-22 21:40:34,578 : INFO : adding document #0 to Dictionary(0 unique tokens: [])\n",
      "2017-05-22 21:40:39,434 : INFO : built Dictionary(42020 unique tokens: ['<_h#q((ev+VAnbMpr7Y7rt1q3wkNGs`}k7*wq1Gq', 'fiKFE)v7e~#`YH)c&mEuf}PJKFKc%&5YPz&!920c', 'CVS4!Nuh;nfCVK?2k2qKbcau~kf*i&Gi5g^&Z4WD', 'v+;cf6@KaG&VKt5FZn(cvD95`EuTlF0E6iiJGN1l', 'J3WGBj7?nK#itn#Q1t0fNS@nu5NPO^wrd5-s3#|l']...) from 18 documents (total 2161659 corpus positions)\n"
     ]
    }
   ],
   "source": [
    "id2word = gensim.corpora.Dictionary(hashed.read_hashed_corpus())"
   ]
  },
  {
   "cell_type": "code",
   "execution_count": 28,
   "metadata": {
    "collapsed": false,
    "editable": true
   },
   "outputs": [
    {
     "data": {
      "text/plain": [
       "'fiKFE)v7e~#`YH)c&mEuf}PJKFKc%&5YPz&!920c'"
      ]
     },
     "execution_count": 28,
     "metadata": {},
     "output_type": "execute_result"
    }
   ],
   "source": [
    "id2word[0]"
   ]
  },
  {
   "cell_type": "code",
   "execution_count": 29,
   "metadata": {
    "collapsed": false,
    "editable": true
   },
   "outputs": [
    {
     "name": "stderr",
     "output_type": "stream",
     "text": [
      "2017-05-22 21:40:44,196 : INFO : storing corpus in Matrix Market format to hashed_wiki_pt_tfidf.mm\n",
      "2017-05-22 21:40:44,200 : INFO : saving sparse matrix to hashed_wiki_pt_tfidf.mm\n",
      "2017-05-22 21:40:44,203 : INFO : PROGRESS: saving document #0\n",
      "2017-05-22 21:40:45,397 : INFO : saved 18x42020 matrix, density=16.126% (121967/756360)\n",
      "2017-05-22 21:40:45,400 : INFO : saving MmCorpus index to hashed_wiki_pt_tfidf.mm.index\n"
     ]
    }
   ],
   "source": [
    "mm = [id2word.doc2bow(text) for text in hashed.read_hashed_corpus()]\n",
    "gensim.corpora.MmCorpus.serialize('hashed_wiki_pt_tfidf.mm', mm)"
   ]
  },
  {
   "cell_type": "code",
   "execution_count": 30,
   "metadata": {
    "collapsed": false,
    "editable": true,
    "scrolled": true
   },
   "outputs": [
    {
     "name": "stderr",
     "output_type": "stream",
     "text": [
      "2017-05-22 21:40:45,428 : INFO : collecting document frequencies\n",
      "2017-05-22 21:40:45,446 : INFO : PROGRESS: processing document #0\n",
      "2017-05-22 21:40:45,613 : INFO : calculating IDF weights for 18 documents and 42019 features (121967 matrix non-zeros)\n"
     ]
    },
    {
     "name": "stdout",
     "output_type": "stream",
     "text": [
      "CPU times: user 344 ms, sys: 4 ms, total: 348 ms\n",
      "Wall time: 363 ms\n"
     ]
    }
   ],
   "source": [
    "%%time\n",
    "if os.path.exists('hashed_wiki_tfidf_model'):\n",
    "    tfidf = models.TfidfModel.load('hashed_wiki_tfidf_model')\n",
    "else:\n",
    "    tfidf = models.TfidfModel(mm)"
   ]
  },
  {
   "cell_type": "code",
   "execution_count": 31,
   "metadata": {
    "collapsed": false,
    "editable": true
   },
   "outputs": [
    {
     "name": "stderr",
     "output_type": "stream",
     "text": [
      "2017-05-22 21:40:45,807 : INFO : saving TfidfModel object under hashed_wiki_tfidf_model, separately None\n",
      "2017-05-22 21:40:45,845 : INFO : saved hashed_wiki_tfidf_model\n"
     ]
    }
   ],
   "source": [
    "tfidf.save('hashed_wiki_tfidf_model')"
   ]
  },
  {
   "cell_type": "markdown",
   "metadata": {
    "editable": true
   },
   "source": [
    "The next step is to train the LSI model with a tfidf transformed corpus. So we will need yet another generator to yield the transformed corpus."
   ]
  },
  {
   "cell_type": "code",
   "execution_count": 32,
   "metadata": {
    "collapsed": true,
    "editable": true
   },
   "outputs": [],
   "source": [
    "def tfidf_corpus_stream(corpus):\n",
    "    for doc in corpus:\n",
    "        yield tfidf[doc]"
   ]
  },
  {
   "cell_type": "code",
   "execution_count": 33,
   "metadata": {
    "collapsed": false,
    "editable": true
   },
   "outputs": [],
   "source": [
    "tfidf_corpus_s = tfidf_corpus_stream(mm)"
   ]
  },
  {
   "cell_type": "markdown",
   "metadata": {
    "editable": true
   },
   "source": [
    "## Calculating the LSI model"
   ]
  },
  {
   "cell_type": "code",
   "execution_count": 34,
   "metadata": {
    "collapsed": false,
    "editable": true
   },
   "outputs": [
    {
     "name": "stderr",
     "output_type": "stream",
     "text": [
      "2017-05-22 21:40:46,265 : INFO : using serial LSI version on this node\n",
      "2017-05-22 21:40:46,268 : INFO : updating model with new documents\n",
      "2017-05-22 21:40:46,985 : INFO : preparing a new chunk of documents\n",
      "2017-05-22 21:40:47,096 : INFO : using 100 extra samples and 2 power iterations\n",
      "2017-05-22 21:40:47,099 : INFO : 1st phase: constructing (42020, 118) action matrix\n",
      "2017-05-22 21:40:47,226 : INFO : orthonormalizing (42020, 118) action matrix\n",
      "2017-05-22 21:41:01,902 : INFO : 2nd phase: running dense svd on (118, 18) matrix\n",
      "2017-05-22 21:41:01,977 : INFO : computing the final decomposition\n",
      "2017-05-22 21:41:01,983 : INFO : keeping 18 factors (discarding 0.000% of energy spectrum)\n",
      "2017-05-22 21:41:02,297 : INFO : processed documents up to #18\n",
      "2017-05-22 21:41:02,306 : INFO : topic #0(1.365): -0.220*\"kn!QR@4!l<6q%I9=Wh1gzS5BGk9pkVCO#u=Zc%xL\" + -0.176*\"9JtE1@db$^p@;&;tgoK@FfZkBVn<7!NhNrhLaI{h\" + -0.165*\"c~k-@SxB5VlPj?88N%8YDJk^uk(~<QgbwvN#Tl1C\" + -0.158*\"nFV+mj3yuyH;LPpsXmyoWu&|%M?hv+7pereFW|Pj\" + -0.146*\"mf<qR`Bv{X&`K18!IutbfbO7-&77=xR`;i1rhOms\" + -0.143*\"=UFH}zR5}5wK~qt=ICjbG2{$#k-gzM_19A=9mP4>\" + -0.143*\"J25r+TvTZrEskG)Gvl-tzuBEOkoL^m2GJaj^|gzn\" + -0.125*\"ZTv4{icAGA2Chdl>&^{giNsbq7ei+7fOA|kMEVhO\" + -0.120*\"y<6HIhyAPGD4?3g7BCDA501(Ru!j$g4`GRB{vPJ6\" + -0.114*\"$oApfb=_KVa1+z0`Aavt1&EmZzQ!|?D?btwwB69A\"\n",
      "2017-05-22 21:41:02,318 : INFO : topic #1(1.246): -0.422*\"ZTv4{icAGA2Chdl>&^{giNsbq7ei+7fOA|kMEVhO\" + -0.253*\"AY{|DT1?A9I`A+DW3~R#4_GyElb8N`hRqfCB_3!k\" + -0.195*\"b#3}oW1llt8p;-8v9<H!D<|{5kN!Zk>A2oox3m!N\" + -0.190*\"t=Ly?Dx~5fLg~W4i9{Dv0O;(e$+&Y|Ki`~&)nq>t\" + -0.174*\"vfULhQV5P`T<~r!b_|eA^Xl`x_>lZ*1@r49a@}Pv\" + -0.157*\"w8^by5Aa|6+i1Ny@SN%izuVDMefDalF!6D@T#OMF\" + -0.153*\"CT870hlg~@V>J2dovcUaDWvjiy|a7dHh(lH3RZjs\" + -0.135*\"lJ8pSLA1=@iuywL<aD3x1oF409kdyTQ)`ZWs7jwt\" + -0.133*\"&{#SHx^u*ea`}$);L=Fq*P6AUr3v&nqr<R3S)<Gy\" + -0.122*\"FQA?w5qXt-HS_CcI&0v02jG}@zHWqjl9c1>pCG}-\"\n",
      "2017-05-22 21:41:02,325 : INFO : topic #2(1.137): 0.236*\"kn!QR@4!l<6q%I9=Wh1gzS5BGk9pkVCO#u=Zc%xL\" + 0.221*\"=UFH}zR5}5wK~qt=ICjbG2{$#k-gzM_19A=9mP4>\" + 0.164*\"c~k-@SxB5VlPj?88N%8YDJk^uk(~<QgbwvN#Tl1C\" + -0.160*\"5(d^{(T);90XCTZm~VU}ogpt|qSD^ea}SV8i20c)\" + -0.153*\"mf<qR`Bv{X&`K18!IutbfbO7-&77=xR`;i1rhOms\" + -0.152*\"Htv?VB9cPWojx4X0zq}WNuKSBx9onIi?Lc$o<!Be\" + -0.147*\"nFV+mj3yuyH;LPpsXmyoWu&|%M?hv+7pereFW|Pj\" + -0.144*\"Ha6m+1xXb@UL0xd?I;U3E1>)L4A5)CdwUo<%8k5%\" + 0.143*\"Z8!|_3;DaSfd}=H9m3{M(2a}^opdI)gHfYQK~Dvk\" + -0.129*\"ZTv4{icAGA2Chdl>&^{giNsbq7ei+7fOA|kMEVhO\"\n",
      "2017-05-22 21:41:02,334 : INFO : topic #3(1.026): -0.320*\"NR~S@JveAyE0J1=GoYz;q8ym1Tm5e2S+b(iD^h4^\" + 0.278*\"5(d^{(T);90XCTZm~VU}ogpt|qSD^ea}SV8i20c)\" + -0.253*\"gV~tV83*s4h28N-<Sm!Voh)@8vhTtlDTD>%+c<jl\" + -0.237*\";*0rD_^nc-<47&M$Zl;v+c3o^A55MC5#wq#h|92h\" + -0.198*\"4}k!+)arVNVk^t|YcUVDO|JT8XZOCDrfN_JC~;hz\" + 0.187*\"1t#zJtp(;$etFx7lh|kJRn#_I_DlETtwS;!j!xSu\" + 0.183*\"oUR6@3<HEl2o#Ae@Zzjb^$-dVsiun?2zB*4NbKEk\" + 0.182*\"tDsUw_HC?49(Cf2M3=?X;tF=w1V+$sY=u=H@C3~M\" + 0.174*\"Htv?VB9cPWojx4X0zq}WNuKSBx9onIi?Lc$o<!Be\" + -0.151*\"CM`G|%iulmhVU@KI57O*P!H_ULITl#Gg?ph$bGnX\"\n",
      "2017-05-22 21:41:02,342 : INFO : topic #4(1.001): -0.505*\";*0rD_^nc-<47&M$Zl;v+c3o^A55MC5#wq#h|92h\" + -0.443*\"CM`G|%iulmhVU@KI57O*P!H_ULITl#Gg?ph$bGnX\" + 0.361*\"NR~S@JveAyE0J1=GoYz;q8ym1Tm5e2S+b(iD^h4^\" + 0.287*\"gV~tV83*s4h28N-<Sm!Voh)@8vhTtlDTD>%+c<jl\" + 0.224*\"4}k!+)arVNVk^t|YcUVDO|JT8XZOCDrfN_JC~;hz\" + -0.169*\"8su7vM?MMI+G9bvMzE9PAKDCAsTyf07S$w2f|NHC\" + -0.151*\"7HpMM$f{;(^tx5_xUno>wg-(QQ4i-NRIFSAv?YU*\" + -0.120*\"czA`qhpOkfD(w&+)9&UXZv}a-tE7D*;+IfC4La6q\" + -0.119*\"BUM(JVR>wVTh~0QZB*-xNXpNjsH_k$J5U>CpRGCK\" + -0.113*\"JD0<4dNMRil~nYy;!A<~1vGSRr{V)SmEp|}--l)W\"\n",
      "2017-05-22 21:41:02,386 : INFO : saving Projection object under hashed_wiki_lsi_model.projection, separately None\n",
      "2017-05-22 21:41:02,534 : INFO : saved hashed_wiki_lsi_model.projection\n",
      "2017-05-22 21:41:02,537 : INFO : saving LsiModel object under hashed_wiki_lsi_model, separately None\n",
      "2017-05-22 21:41:02,542 : INFO : not storing attribute dispatcher\n",
      "2017-05-22 21:41:02,549 : INFO : not storing attribute projection\n",
      "2017-05-22 21:41:02,670 : INFO : saved hashed_wiki_lsi_model\n"
     ]
    }
   ],
   "source": [
    "if os.path.exists('hashed_wiki_lsi_model'):\n",
    "    lsi = gensim.models.LsiModel.load('hashed_wiki_lsi_model')\n",
    "else:\n",
    "    lsi = gensim.models.lsimodel.LsiModel(corpus=tfidf_corpus_s, id2word=id2word, num_topics=18)\n",
    "    lsi.save('hashed_wiki_lsi_model')"
   ]
  },
  {
   "cell_type": "markdown",
   "metadata": {
    "deletable": true,
    "editable": true
   },
   "source": [
    "Let now look at the topics generated, decoding the hashed tokens using the `decode_dictionary`."
   ]
  },
  {
   "cell_type": "code",
   "execution_count": 36,
   "metadata": {
    "collapsed": false,
    "deletable": true,
    "editable": true,
    "scrolled": true
   },
   "outputs": [
    {
     "name": "stdout",
     "output_type": "stream",
     "text": [
      "====================\n",
      "Topic 0:\n",
      "Coef.\t Token\n",
      "--------------------\n",
      "-0.22\tthee\n",
      "-0.176\t--\n",
      "-0.165\tthou\n",
      "-0.158\t.\"\n",
      "-0.146\t,\"\n",
      "-0.143\tunto\n",
      "-0.143\thave\n",
      "-0.125\thaue\n",
      "-0.12\tflambeau\n",
      "-0.114\tthy\n",
      "====================\n",
      "Topic 1:\n",
      "Coef.\t Token\n",
      "--------------------\n",
      "-0.422\thaue\n",
      "-0.253\tmacb\n",
      "-0.195\tham\n",
      "-0.19\tbru\n",
      "-0.174\tvs\n",
      "-0.157\tvpon\n",
      "-0.153\tbrutus\n",
      "-0.135\tselfe\n",
      "-0.133\tcassi\n",
      "-0.122\theere\n",
      "====================\n",
      "Topic 2:\n",
      "Coef.\t Token\n",
      "--------------------\n",
      "0.236\tthee\n",
      "0.221\tunto\n",
      "0.164\tthou\n",
      "-0.16\telinor\n",
      "-0.153\t,\"\n",
      "-0.152\tmrs\n",
      "-0.147\t.\"\n",
      "-0.144\tmr\n",
      "0.143\tthel\n",
      "-0.129\thaue\n",
      "====================\n",
      "Topic 3:\n",
      "Coef.\t Token\n",
      "--------------------\n",
      "-0.32\tsyme\n",
      "0.278\telinor\n",
      "-0.253\tturnbull\n",
      "-0.237\tbuster\n",
      "-0.198\tmacian\n",
      "0.187\telliot\n",
      "0.183\tmarianne\n",
      "0.182\temma\n",
      "0.174\tmrs\n",
      "-0.151\talice\n",
      "====================\n",
      "Topic 4:\n",
      "Coef.\t Token\n",
      "--------------------\n",
      "-0.505\tbuster\n",
      "-0.443\talice\n",
      "0.361\tsyme\n",
      "0.287\tturnbull\n",
      "0.224\tmacian\n",
      "-0.169\tjoe\n",
      "-0.151\tblacky\n",
      "-0.12\t,'\n",
      "-0.119\t!'\n",
      "-0.113\tbilly\n",
      "====================\n",
      "Topic 5:\n",
      "Coef.\t Token\n",
      "--------------------\n",
      "-0.639\talice\n",
      "0.45\tbuster\n",
      "-0.176\t,'\n",
      "-0.174\t!'\n",
      "0.152\tjoe\n",
      "0.135\tblacky\n",
      "-0.112\twhale\n",
      "-0.109\tduchess\n",
      "-0.108\tgryphon\n",
      "-0.104\tdormouse\n",
      "====================\n",
      "Topic 6:\n",
      "Coef.\t Token\n",
      "--------------------\n",
      "-0.636\tsyme\n",
      "0.259\tturnbull\n",
      "0.258\twhale\n",
      "0.211\tahab\n",
      "0.202\tmacian\n",
      "-0.169\talice\n",
      "0.142\tstubb\n",
      "0.139\tqueequeg\n",
      "-0.135\tunto\n",
      "-0.132\telinor\n",
      "====================\n",
      "Topic 7:\n",
      "Coef.\t Token\n",
      "--------------------\n",
      "-0.479\tturnbull\n",
      "-0.374\tmacian\n",
      "0.326\tsyme\n",
      "0.267\twhale\n",
      "-0.233\talice\n",
      "0.221\tahab\n",
      "-0.155\tunto\n",
      "0.148\tstubb\n",
      "0.145\tqueequeg\n",
      "-0.124\tevan\n",
      "====================\n",
      "Topic 8:\n",
      "Coef.\t Token\n",
      "--------------------\n",
      "-0.324\tunto\n",
      "0.287\tbuster\n",
      "-0.26\tmargery\n",
      "0.234\tturnbull\n",
      "-0.216\tjackal\n",
      "0.188\tsyme\n",
      "0.183\tmacian\n",
      "0.158\temma\n",
      "-0.156\tdavid\n",
      "-0.124\tisrael\n",
      "====================\n",
      "Topic 9:\n",
      "Coef.\t Token\n",
      "--------------------\n",
      "0.525\telinor\n",
      "0.335\tmarianne\n",
      "-0.324\telliot\n",
      "-0.244\twentworth\n",
      "0.193\tdashwood\n",
      "-0.179\tanne\n",
      "0.176\tjennings\n",
      "-0.147\temma\n",
      "-0.146\tmusgrove\n",
      "-0.126\trussell\n",
      "====================\n",
      "Topic 10:\n",
      "Coef.\t Token\n",
      "--------------------\n",
      "-0.383\temma\n",
      "0.319\telliot\n",
      "-0.296\tharriet\n",
      "-0.257\tweston\n",
      "0.241\twentworth\n",
      "-0.227\tknightley\n",
      "-0.225\telton\n",
      "-0.208\tunto\n",
      "-0.183\twoodhouse\n",
      "0.181\tanne\n",
      "====================\n",
      "Topic 11:\n",
      "Coef.\t Token\n",
      "--------------------\n",
      "-0.413\tunto\n",
      "0.254\tthel\n",
      "-0.196\tsyme\n",
      "-0.179\tturnbull\n",
      "0.166\tweep\n",
      "-0.161\tbuster\n",
      "-0.161\telinor\n",
      "-0.145\telliot\n",
      "0.143\tlyca\n",
      "-0.14\tmacian\n",
      "====================\n",
      "Topic 12:\n",
      "Coef.\t Token\n",
      "--------------------\n",
      "-0.398\tflambeau\n",
      "0.243\tmargery\n",
      "0.203\tjackal\n",
      "0.176\tsyme\n",
      "-0.159\tboulnois\n",
      "-0.15\tmuscari\n",
      "0.136\twhale\n",
      "0.133\tturnbull\n",
      "0.131\tthel\n",
      "-0.115\tunto\n",
      "====================\n",
      "Topic 13:\n",
      "Coef.\t Token\n",
      "--------------------\n",
      "0.236\tunto\n",
      "0.219\tthel\n",
      "0.192\twhale\n",
      "0.179\tahab\n",
      "-0.146\tmargery\n",
      "0.141\tweep\n",
      "0.123\tlyca\n",
      "0.122\tsusan\n",
      "-0.121\tjackal\n",
      "0.115\tstubb\n",
      "====================\n",
      "Topic 14:\n",
      "Coef.\t Token\n",
      "--------------------\n",
      "-0.287\tflambeau\n",
      "0.219\tsusan\n",
      "0.219\tcecilia\n",
      "0.202\tpiedro\n",
      "-0.186\telinor\n",
      "0.155\tjem\n",
      "0.14\tleonora\n",
      "0.139\tarcher\n",
      "0.138\thal\n",
      "0.133\tfrancisco\n",
      "====================\n",
      "Topic 15:\n",
      "Coef.\t Token\n",
      "--------------------\n",
      "0.44\tbru\n",
      "0.351\tbrutus\n",
      "-0.335\tmacb\n",
      "0.308\tcassi\n",
      "0.244\tcassius\n",
      "0.164\tantony\n",
      "0.152\tcaesar\n",
      "-0.152\tmacbeth\n",
      "-0.142\tmacd\n",
      "-0.12\trosse\n",
      "====================\n",
      "Topic 16:\n",
      "Coef.\t Token\n",
      "--------------------\n",
      "-0.265\tunto\n",
      "0.186\theaven\n",
      "0.142\tadam\n",
      "0.137\teve\n",
      "-0.134\tthel\n",
      "0.123\tth\n",
      "-0.118\t--\n",
      "0.0986\tsatan\n",
      "-0.0905\t,)\n",
      "-0.0902\tweep\n"
     ]
    }
   ],
   "source": [
    "for n in range(17):\n",
    "    print(\"====================\")\n",
    "    print(\"Topic {}:\".format(n))\n",
    "    print(\"Coef.\\t Token\")\n",
    "    print(\"--------------------\")\n",
    "    for tok,coef in lsi.show_topic(n):\n",
    "        tok = hashed.decode_dictionary[tok.strip()][0]\n",
    "        print(\"{:.3}\\t{}\".format(coef,tok))"
   ]
  },
  {
   "cell_type": "code",
   "execution_count": null,
   "metadata": {
    "collapsed": true,
    "deletable": true,
    "editable": true
   },
   "outputs": [],
   "source": []
  }
 ],
 "metadata": {
  "kernelspec": {
   "display_name": "Python 3",
   "language": "python",
   "name": "python3"
  },
  "language_info": {
   "codemirror_mode": {
    "name": "ipython",
    "version": 3
   },
   "file_extension": ".py",
   "mimetype": "text/x-python",
   "name": "python",
   "nbconvert_exporter": "python",
   "pygments_lexer": "ipython3",
   "version": "3.5.2"
  }
 },
 "nbformat": 4,
 "nbformat_minor": 2
}
