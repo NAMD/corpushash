{
 "cells": [
  {
   "cell_type": "code",
   "execution_count": 26,
   "metadata": {
    "collapsed": false,
    "deletable": true,
    "editable": true
   },
   "outputs": [
    {
     "data": {
      "text/html": [
       "<style> code {background-color : lightgrey !important;} </style>"
      ],
      "text/plain": [
       "<IPython.core.display.HTML object>"
      ]
     },
     "metadata": {},
     "output_type": "display_data"
    }
   ],
   "source": [
    "%%HTML\n",
    "<style> code {background-color : lightgrey !important;} </style>"
   ]
  },
  {
   "cell_type": "markdown",
   "metadata": {
    "deletable": true,
    "editable": true
   },
   "source": [
    "## `corpushash` tutorial"
   ]
  },
  {
   "cell_type": "markdown",
   "metadata": {
    "deletable": true,
    "editable": true
   },
   "source": [
    "**corpushash** is a simple library that aims to make the natural language processing of sensitive documents easier. the library enables performing common NLP tasks on sensitive documents without disclosing their contents. This is done by hashing every token in the corpus along with a salt (to prevent dictionary attacks). \n",
    "\n",
    "its workflow is as simple as having the sensitive corpora as a python nested list (or generator) whose elements are themselves (nested) lists of strings. after the hashing is done, NLP can be carried out by a third party, and when the results are in they can be decoded by a dictionary that maps hashes to the original strings. so that makes:\n",
    "\n",
    "```python\n",
    "import corpushash as ch\n",
    "hashed_corpus = ch.CorpusHash(mycorpus_as_a_nested_list, '/home/sensitive-corpus')\n",
    ">>> \"42 documents hashed and saved to '/home/sensitive-corpus/public/$(timestamp)'\"\n",
    "```\n",
    "**NLP is done, and `results` are in**:\n",
    "```python\n",
    "for token in results:\n",
    "    print(token, \">\", hashed_corpus.decode_dictionary[token])\n",
    ">>> \"7)JBMGG?sGu+>%Js~dG=%c1Qn1HpAU{jM-~Buu7?\" > \"gutenberg\"\n",
    "\n",
    "```\n",
    "\n",
    "The library requires as input:\n",
    "\n",
    "* a tokenized corpus as a nested list, whose elements are themselves nested lists of the tokens of each document in the corpus\n",
    "\n",
    "    each list corresponds to a document structure: its chapters, paragraphs, sentences. you decide how the nested list is to be created or structured, as long as the input is a nested list with strings as their bottom-most elements.\n",
    "\n",
    "* `corpus_path`, a path to a directory where the output files are to be stored\n",
    "\n",
    "The output includes:\n",
    "\n",
    "* a .json file for every item in the dictionary provided, named sequencially as positive integers, e.g., the first document being `0.json`, stored in `corpus_path/public/$(timestamp-of-hash)/`\n",
    "\n",
    "* two `.json` dictionaries stored in `corpus_path/private`. they are used to decode the .json files or the NLP results"
   ]
  },
  {
   "cell_type": "markdown",
   "metadata": {
    "deletable": true,
    "editable": true
   },
   "source": [
    "## Preparing the input data"
   ]
  },
  {
   "cell_type": "markdown",
   "metadata": {
    "deletable": true,
    "editable": true
   },
   "source": [
    "loading libraries..."
   ]
  },
  {
   "cell_type": "code",
   "execution_count": 27,
   "metadata": {
    "collapsed": false,
    "deletable": true,
    "editable": true
   },
   "outputs": [],
   "source": [
    "import os\n",
    "import json\n",
    "from nltk.corpus import gutenberg\n",
    "import corpushash as ch\n",
    "import base64\n",
    "import hashlib\n",
    "import random"
   ]
  },
  {
   "cell_type": "markdown",
   "metadata": {
    "deletable": true,
    "editable": true
   },
   "source": [
    "we'll use the gutenberg corpus as test data, which is available through the nltk library.\n",
    "\n",
    "downloading test data (if needed):"
   ]
  },
  {
   "cell_type": "code",
   "execution_count": 28,
   "metadata": {
    "collapsed": true,
    "deletable": true,
    "editable": true
   },
   "outputs": [],
   "source": [
    "import nltk\n",
    "#nltk.download('gutenberg')  # comment (uncomment) if you have (don't have) the data"
   ]
  },
  {
   "cell_type": "markdown",
   "metadata": {
    "deletable": true,
    "editable": true
   },
   "source": [
    "files in test data:"
   ]
  },
  {
   "cell_type": "code",
   "execution_count": 29,
   "metadata": {
    "collapsed": false,
    "deletable": true,
    "editable": true,
    "scrolled": true
   },
   "outputs": [
    {
     "data": {
      "text/plain": [
       "['austen-emma.txt',\n",
       " 'austen-persuasion.txt',\n",
       " 'austen-sense.txt',\n",
       " 'bible-kjv.txt',\n",
       " 'blake-poems.txt',\n",
       " 'bryant-stories.txt',\n",
       " 'burgess-busterbrown.txt',\n",
       " 'carroll-alice.txt',\n",
       " 'chesterton-ball.txt',\n",
       " 'chesterton-brown.txt',\n",
       " 'chesterton-thursday.txt',\n",
       " 'edgeworth-parents.txt',\n",
       " 'melville-moby_dick.txt',\n",
       " 'milton-paradise.txt',\n",
       " 'shakespeare-caesar.txt',\n",
       " 'shakespeare-hamlet.txt',\n",
       " 'shakespeare-macbeth.txt',\n",
       " 'whitman-leaves.txt']"
      ]
     },
     "execution_count": 29,
     "metadata": {},
     "output_type": "execute_result"
    }
   ],
   "source": [
    "gutenberg.fileids()"
   ]
  },
  {
   "cell_type": "markdown",
   "metadata": {
    "deletable": true,
    "editable": true
   },
   "source": [
    "creating test corpus path, where hashed documents will be stored as .json files:"
   ]
  },
  {
   "cell_type": "code",
   "execution_count": 30,
   "metadata": {
    "collapsed": false,
    "deletable": true,
    "editable": true
   },
   "outputs": [
    {
     "data": {
      "text/plain": [
       "'/home/guest/Documents/git/corpushash/notebooks'"
      ]
     },
     "execution_count": 30,
     "metadata": {},
     "output_type": "execute_result"
    }
   ],
   "source": [
    "base_path = os.getcwd()\n",
    "base_path"
   ]
  },
  {
   "cell_type": "code",
   "execution_count": 31,
   "metadata": {
    "collapsed": false,
    "deletable": true,
    "editable": true
   },
   "outputs": [
    {
     "data": {
      "text/plain": [
       "'/home/guest/Documents/git/corpushash/notebooks/guten_test'"
      ]
     },
     "execution_count": 31,
     "metadata": {},
     "output_type": "execute_result"
    }
   ],
   "source": [
    "corpus_path = os.path.join(base_path, 'guten_test')\n",
    "corpus_path"
   ]
  },
  {
   "cell_type": "markdown",
   "metadata": {
    "deletable": true,
    "editable": true
   },
   "source": [
    "#### function to split text into nested list:"
   ]
  },
  {
   "cell_type": "code",
   "execution_count": 32,
   "metadata": {
    "collapsed": false,
    "deletable": true,
    "editable": true
   },
   "outputs": [
    {
     "name": "stdout",
     "output_type": "stream",
     "text": [
      "Emma Woodhouse, handsome, clever, and rich, with a comfortable home\n",
      "and happy disposition, seemed to unite some of the best blessings\n",
      "of existence; and had lived nearly twenty-one years in the world\n",
      "with very little to distress or vex her.\n",
      "\n",
      "She was the youngest of the two daughters of a most affectionate,\n",
      "indulgent father; and had, in consequence of her sister's marriage,\n",
      "been mistress of his house from a very early period. \n"
     ]
    }
   ],
   "source": [
    "excerpt = gutenberg.raw('austen-emma.txt')[50:478]\n",
    "print(excerpt)"
   ]
  },
  {
   "cell_type": "markdown",
   "metadata": {
    "deletable": true,
    "editable": true
   },
   "source": [
    "every paragraph and sentence is its own list:"
   ]
  },
  {
   "cell_type": "code",
   "execution_count": 33,
   "metadata": {
    "collapsed": false,
    "deletable": true,
    "editable": true
   },
   "outputs": [
    {
     "name": "stdout",
     "output_type": "stream",
     "text": [
      "[[['Emma', 'Woodhouse', 'handsome', 'clever', 'and', 'rich', 'with', 'a', 'comfortable', 'home']], [['and', 'happy', 'disposition', 'seemed', 'to', 'unite', 'some', 'of', 'the', 'best', 'blessings']], [['of', 'existence', 'and', 'had', 'lived', 'nearly', 'twenty-one', 'years', 'in', 'the', 'world']], [['with', 'very', 'little', 'to', 'distress', 'or', 'vex', 'her']], [['She', 'was', 'the', 'youngest', 'of', 'the', 'two', 'daughters', 'of', 'a', 'most', 'affectionate']], [['indulgent', 'father', 'and', 'had', 'in', 'consequence', 'of', 'her', \"sister's\", 'marriage']], [['been', 'mistress', 'of', 'his', 'house', 'from', 'a', 'very', 'early', 'period']]]\n"
     ]
    }
   ],
   "source": [
    "print(ch.text_split(excerpt))"
   ]
  },
  {
   "cell_type": "markdown",
   "metadata": {
    "deletable": true,
    "editable": true
   },
   "source": [
    "## Input"
   ]
  },
  {
   "cell_type": "markdown",
   "metadata": {
    "deletable": true,
    "editable": true
   },
   "source": [
    "the library takes as input a nested list whose elements are the original documents as nested lists. this can be an in-nested list or some generator that yields a nested list when it is iterated over.\n",
    "\n",
    "#### creating nested list made from the raw texts in the gutenberg corpus:"
   ]
  },
  {
   "cell_type": "code",
   "execution_count": 34,
   "metadata": {
    "collapsed": false,
    "deletable": true,
    "editable": true
   },
   "outputs": [
    {
     "name": "stdout",
     "output_type": "stream",
     "text": [
      "CPU times: user 1.29 s, sys: 42 ms, total: 1.33 s\n",
      "Wall time: 1.34 s\n"
     ]
    }
   ],
   "source": [
    "%%time\n",
    "guten_list = []\n",
    "for document_name in gutenberg.fileids():\n",
    "    document = gutenberg.raw(document_name)\n",
    "    split_document = ch.text_split(document)\n",
    "    guten_list.append(split_document)"
   ]
  },
  {
   "cell_type": "markdown",
   "metadata": {
    "deletable": true,
    "editable": true
   },
   "source": [
    "excerpt:"
   ]
  },
  {
   "cell_type": "code",
   "execution_count": 35,
   "metadata": {
    "collapsed": false,
    "deletable": true,
    "editable": true
   },
   "outputs": [
    {
     "name": "stdout",
     "output_type": "stream",
     "text": [
      "[[['Persuasion', 'by', 'Jane', 'Austen', '1818']], [['Chapter', '1']], [['Sir', 'Walter', 'Elliot', 'of', 'Kellynch', 'Hall', 'in', 'Somersetshire', 'was', 'a', 'man', 'who']], [['for', 'his', 'own', 'amusement', 'never', 'took', 'up', 'any', 'book', 'but', 'the', 'Baronetage']], [['there', 'he', 'found', 'occupation', 'for', 'an', 'idle', 'hour', 'and', 'consolation', 'in', 'a']], [['distressed', 'one', 'there', 'his', 'faculties', 'were', 'roused', 'into', 'admiration', 'and']], [['respect', 'by', 'contemplating', 'the', 'limited', 'remnant', 'of', 'the', 'earliest', 'patents']], [['there', 'any', 'unwelcome', 'sensations', 'arising', 'from', 'domestic', 'affairs']], [['changed', 'naturally', 'into', 'pity', 'and', 'contempt', 'as', 'he', 'turned', 'over']], [['the', 'almost', 'endless', 'creations', 'of', 'the', 'last', 'century', 'and', 'there']]]\n"
     ]
    }
   ],
   "source": [
    "document = random.choice(guten_list)\n",
    "print(document[:10])"
   ]
  },
  {
   "cell_type": "markdown",
   "metadata": {
    "deletable": true,
    "editable": true
   },
   "source": [
    "## processing using `corpushash`"
   ]
  },
  {
   "cell_type": "markdown",
   "metadata": {
    "deletable": true,
    "editable": true
   },
   "source": [
    "#### instantiating `CorpusHash` class, which hashes the provided corpus to the `corpus_path`:"
   ]
  },
  {
   "cell_type": "code",
   "execution_count": 36,
   "metadata": {
    "collapsed": false,
    "deletable": true,
    "editable": true
   },
   "outputs": [
    {
     "name": "stderr",
     "output_type": "stream",
     "text": [
      "2017-05-23 19:36:58,004 - corpushash.hashers - INFO - dictionaries from previous hashing found. loading them.\n",
      "2017-05-23 19:37:04,490 - corpushash.hashers - INFO - 18 documents hashed and saved to /home/guest/Documents/git/corpushash/notebooks/guten_test/public/2017-05-23_19-36-58-004565.\n"
     ]
    },
    {
     "name": "stdout",
     "output_type": "stream",
     "text": [
      "CPU times: user 6.46 s, sys: 88 ms, total: 6.55 s\n",
      "Wall time: 6.55 s\n"
     ]
    }
   ],
   "source": [
    "%time hashed_guten = ch.CorpusHash(guten_list, corpus_path)"
   ]
  },
  {
   "cell_type": "markdown",
   "metadata": {
    "deletable": true,
    "editable": true
   },
   "source": [
    "## Output"
   ]
  },
  {
   "cell_type": "markdown",
   "metadata": {
    "deletable": true,
    "editable": true
   },
   "source": [
    "### Encode dictionary\n",
    "\n",
    "The encode dictionary is used to encode values to hashes, so that the same strings are guaranteed to be hashed to the same value, including the random salt."
   ]
  },
  {
   "cell_type": "code",
   "execution_count": 37,
   "metadata": {
    "collapsed": false,
    "deletable": true,
    "editable": true
   },
   "outputs": [
    {
     "name": "stdout",
     "output_type": "stream",
     "text": [
      "token >>      apartment       | hashed_token >> 'a}&qib+Q4Fgt8x<s0&h?kgF}2Z35<l+5xtFy;FHw'\n",
      "token >>        parcel        | hashed_token >> '<GNXWu~|S}0CFuIsk0qD;pS&(48()%ELYA`#X1I|'\n",
      "token >>       nigger's       | hashed_token >> '*a^-xD<Tl{$_m(Y1x9i4ti1~2KOWzMN@FjSXC4*Q'\n",
      "token >>    deep-throated     | hashed_token >> '1-V5a1gRpXFi+009z8Wl+Y>qj8};2BSfSVT%zNZ#'\n",
      "token >>      blastments      | hashed_token >> '_y{I3(0u$wyxyov4aZn)#o-dq(wVPn%wK|hFk<tV'\n"
     ]
    }
   ],
   "source": [
    "entries = random.sample(list(hashed_guten.encode_dictionary.keys()), k=5)\n",
    "for entry in entries:\n",
    "    print(\"token >> {:^20} | hashed_token >> '{}'\".format(entry, hashed_guten.encode_dictionary[entry]))"
   ]
  },
  {
   "cell_type": "markdown",
   "metadata": {
    "deletable": true,
    "editable": true
   },
   "source": [
    "### Decode dictionary\n",
    "\n",
    "The decode dictionary is used to decode hashes to their original strings, so that one can make sense of the results of any posterior NLP analysis. It also lists the salt that was used to obtain the given hash. This dictionary must be kept secret with the owner of the data."
   ]
  },
  {
   "cell_type": "code",
   "execution_count": 38,
   "metadata": {
    "collapsed": false,
    "deletable": true,
    "editable": true,
    "scrolled": true
   },
   "outputs": [
    {
     "name": "stdout",
     "output_type": "stream",
     "text": [
      "hashed_token >> '$P%GRo*)j<5v@h_WoGU}4~SZqLAVuFe0z9T_f1RX' | (token >> 'washerwoman's?', salt >> ';u|x'\n",
      "hashed_token >> '#FED2$9Adv7d@+x8|=T}gxBLf(L{TxXPyC`e|Ah+' | (token >> 'Ashes', salt >> 'BK;d'\n",
      "hashed_token >> '>ER4JShc2BZ7r;9Zl%Z3SG%*j<6PyY<R=CXPSx!M' | (token >> 'AFRICA', salt >> 'dz6h'\n",
      "hashed_token >> 'st(Oe56bMSeo02)lLqM2zoVLQjc}Y47AB)R_`d+$' | (token >> 'Tremisen', salt >> 'j*Ez'\n",
      "hashed_token >> 'l_3Sw0Y>gO*6aHP9ogvdk3>KxK>pJc8w{F>zAi)O' | (token >> 'Ieering?', salt >> '1z;7'\n"
     ]
    }
   ],
   "source": [
    "entries = random.sample(list(hashed_guten.decode_dictionary.keys()), k=5)\n",
    "for entry in entries:\n",
    "    print(\"hashed_token >> '{}' | (token >> '{}', salt >> '{}'\".format(entry, hashed_guten.decode_dictionary[entry][0], hashed_guten.decode_dictionary[entry][1][:4]))  # cutting off some bytes for aesthetic reasons"
   ]
  },
  {
   "cell_type": "markdown",
   "metadata": {
    "deletable": true,
    "editable": true
   },
   "source": [
    "### hashed .json files"
   ]
  },
  {
   "cell_type": "markdown",
   "metadata": {
    "deletable": true,
    "editable": true
   },
   "source": [
    "the `walk_nested_list` function yields items in a nested list in order, regardless of their depth:"
   ]
  },
  {
   "cell_type": "code",
   "execution_count": 39,
   "metadata": {
    "collapsed": false,
    "deletable": true,
    "editable": true
   },
   "outputs": [
    {
     "name": "stdout",
     "output_type": "stream",
     "text": [
      "Emma Woodhouse, handsome, clever, and rich, with a comfortable home\n",
      "and happy disposition, seemed to unite some of the best blessings\n",
      "of existence; and had lived nearly twenty-one years in the world\n",
      "with very little to distress or vex her.\n",
      "\n",
      "She was the youngest of the two daughters of a most affectionate,\n",
      "indulgent father; and had, in consequence of her sister's marriage,\n",
      "been mistress of his house from a very early period. \n"
     ]
    }
   ],
   "source": [
    "print(excerpt)"
   ]
  },
  {
   "cell_type": "code",
   "execution_count": 40,
   "metadata": {
    "collapsed": false,
    "deletable": true,
    "editable": true,
    "scrolled": true
   },
   "outputs": [
    {
     "name": "stdout",
     "output_type": "stream",
     "text": [
      "Emma\n",
      "Woodhouse\n",
      "handsome\n",
      "clever\n",
      "and\n",
      "rich\n",
      "with\n",
      "a\n",
      "comfortable\n",
      "home\n",
      "and\n",
      "happy\n",
      "disposition\n",
      "seemed\n",
      "to\n",
      "unite\n",
      "some\n",
      "of\n",
      "the\n",
      "best\n",
      "blessings\n",
      "of\n",
      "existence\n",
      "and\n",
      "had\n",
      "lived\n",
      "nearly\n",
      "twenty-one\n",
      "years\n",
      "in\n",
      "the\n",
      "world\n",
      "with\n",
      "very\n",
      "little\n",
      "to\n",
      "distress\n",
      "or\n",
      "vex\n",
      "her\n",
      "She\n",
      "was\n",
      "the\n",
      "youngest\n",
      "of\n",
      "the\n",
      "two\n",
      "daughters\n",
      "of\n",
      "a\n",
      "most\n",
      "affectionate\n",
      "indulgent\n",
      "father\n",
      "and\n",
      "had\n",
      "in\n",
      "consequence\n",
      "of\n",
      "her\n",
      "sister's\n",
      "marriage\n",
      "been\n",
      "mistress\n",
      "of\n",
      "his\n",
      "house\n",
      "from\n",
      "a\n",
      "very\n",
      "early\n",
      "period\n"
     ]
    }
   ],
   "source": [
    "for element in ch.walk_nested_list(ch.text_split(excerpt)):\n",
    "    print(element)"
   ]
  },
  {
   "cell_type": "markdown",
   "metadata": {
    "deletable": true,
    "editable": true
   },
   "source": [
    "#### we can use this function to see what hashcodecs has done to the corpus.\n",
    "\n",
    "adjusting parameters:"
   ]
  },
  {
   "cell_type": "code",
   "execution_count": 41,
   "metadata": {
    "collapsed": false,
    "deletable": true,
    "editable": true
   },
   "outputs": [
    {
     "name": "stdout",
     "output_type": "stream",
     "text": [
      "document 6 corresponds to burgess-busterbrown.txt.\n"
     ]
    }
   ],
   "source": [
    "limit = 10  # showing first ten entries\n",
    "document = random.randint(0, len(gutenberg.fileids()))\n",
    "print('document {} corresponds to {}.'.format(document, gutenberg.fileids()[document]))"
   ]
  },
  {
   "cell_type": "markdown",
   "metadata": {
    "deletable": true,
    "editable": true
   },
   "source": [
    "**note**: take care to have your corpus yield the documents always in the same order, else you'll have a harder time knowing which hashed documents correspond to which documents."
   ]
  },
  {
   "cell_type": "markdown",
   "metadata": {
    "deletable": true,
    "editable": true
   },
   "source": [
    "you can read output `.json` directly:"
   ]
  },
  {
   "cell_type": "code",
   "execution_count": 42,
   "metadata": {
    "collapsed": false,
    "deletable": true,
    "editable": true
   },
   "outputs": [],
   "source": [
    "document_path = os.path.join(hashed_guten.public_path, \"{}.json\".format(document))\n",
    "with open(document_path, mode=\"rt\") as fp:\n",
    "    encoded_document = json.load(fp)"
   ]
  },
  {
   "cell_type": "code",
   "execution_count": 43,
   "metadata": {
    "collapsed": false,
    "deletable": true,
    "editable": true,
    "scrolled": true
   },
   "outputs": [
    {
     "name": "stdout",
     "output_type": "stream",
     "text": [
      "original token >> encoded token\n",
      "'R=g*sYbtCCcVi&Y_p5N^?o5eSpz!&+L_V#DI6igc' >> 'R=g*sYbtCCcVi&Y_p5N^?o5eSpz!&+L_V#DI6igc'\n",
      "'OYY5FGKuiV^a=QOnBS01I+^hyol?2xdA-T!GJk?a' >> 'OYY5FGKuiV^a=QOnBS01I+^hyol?2xdA-T!GJk?a'\n",
      "'Ei-Hp(t}e3^ufaY>t{$s7y!WWMOfz8q!#^_f=v%r' >> 'Ei-Hp(t}e3^ufaY>t{$s7y!WWMOfz8q!#^_f=v%r'\n",
      "'_U>d6-<x%GI7#FA!@1{cJua8^r5dr50$7f5y==qB' >> '_U>d6-<x%GI7#FA!@1{cJua8^r5dr50$7f5y==qB'\n",
      "'uwHGGy0m-APOJn;I($j?1!(5E!Ev>#>vMHzU043k' >> 'uwHGGy0m-APOJn;I($j?1!(5E!Ev>#>vMHzU043k'\n",
      "'IE%wyW#6pZRU2at4KdE#t!@f^9*M{1m@|lzxt9y_' >> 'IE%wyW#6pZRU2at4KdE#t!@f^9*M{1m@|lzxt9y_'\n",
      "'vtlN74-vMdn=k5E9+IEI3FqdY+gGpC+9JzMGeF1d' >> 'vtlN74-vMdn=k5E9+IEI3FqdY+gGpC+9JzMGeF1d'\n",
      "'XEmiU;A3lz#RoF}`DaYW{qqeBEJ;I(+IDgSPCQDA' >> 'XEmiU;A3lz#RoF}`DaYW{qqeBEJ;I(+IDgSPCQDA'\n",
      "'iu^+c2Sp>L|G6uw7owEcxQ7SW%-CL^-tcL0H`K(3' >> 'iu^+c2Sp>L|G6uw7owEcxQ7SW%-CL^-tcL0H`K(3'\n",
      "'ok4PU%pLEctS|MV&%!XgRyGRa4EVCp^DNG;YS<UK' >> 'ok4PU%pLEctS|MV&%!XgRyGRa4EVCp^DNG;YS<UK'\n",
      "'as%U0&V-nDtNK{0E50ZA4C0dvk(V1yXidc6&;%p9' >> 'as%U0&V-nDtNK{0E50ZA4C0dvk(V1yXidc6&;%p9'\n",
      "'t^_RbJn2S;A1|_}UW-9Wf47S-rovkmM8F9^r91~B' >> 't^_RbJn2S;A1|_}UW-9Wf47S-rovkmM8F9^r91~B'\n"
     ]
    }
   ],
   "source": [
    "print(\"original token >> encoded token\")\n",
    "for ix, tokens in enumerate(zip(ch.walk_nested_list(encoded_document), ch.walk_nested_list(encoded_document))):\n",
    "    print(\"'{}' >> '{}'\".format(tokens[0], tokens[1]))\n",
    "    if ix > limit:\n",
    "        break"
   ]
  },
  {
   "cell_type": "markdown",
   "metadata": {
    "deletable": true,
    "editable": true
   },
   "source": [
    "or using `corpushash`'s `read_hashed_corpus` method, which yields the corpus' documents in order:"
   ]
  },
  {
   "cell_type": "code",
   "execution_count": 44,
   "metadata": {
    "collapsed": false,
    "deletable": true,
    "editable": true
   },
   "outputs": [
    {
     "name": "stdout",
     "output_type": "stream",
     "text": [
      "[['hiU9#l*$9>Sz)3~G67yj9MNmW8dw;QLuiw>r5pDN', 'IE%wyW#6pZRU2at4KdE#t!@f^9*M{1m@|lzxt9y_', 's3s)>`MqvdQM9BRX;S=fC#ED?z}kXVIR$fz>O+j8', 'FzVBj0XgxuZB$DsIvT3EN+HT@J=Vt>Kr6l0;~cm&', 'K1ivUg0Ub|nhkR%dU6=y!KbP{q;@bmZ7?&hl}oXR']]\n"
     ]
    }
   ],
   "source": [
    "for document in hashed_guten.read_hashed_corpus():\n",
    "    print(document[0])\n",
    "    break"
   ]
  },
  {
   "cell_type": "markdown",
   "metadata": {
    "deletable": true,
    "editable": true
   },
   "source": [
    "alternatively, one can check the `corpus_path` directory and read the output files using one's favorite text editor.\n",
    "\n",
    "the path is:"
   ]
  },
  {
   "cell_type": "code",
   "execution_count": 45,
   "metadata": {
    "collapsed": false,
    "deletable": true,
    "editable": true
   },
   "outputs": [
    {
     "data": {
      "text/plain": [
       "'/home/guest/Documents/git/corpushash/notebooks/guten_test/public/2017-05-23_19-36-58-004565'"
      ]
     },
     "execution_count": 45,
     "metadata": {},
     "output_type": "execute_result"
    }
   ],
   "source": [
    "hashed_guten.public_path"
   ]
  },
  {
   "cell_type": "markdown",
   "metadata": {
    "deletable": true,
    "editable": true
   },
   "source": [
    "## Advanced"
   ]
  },
  {
   "cell_type": "markdown",
   "metadata": {
    "deletable": true,
    "editable": true
   },
   "source": [
    "### how this library works"
   ]
  },
  {
   "cell_type": "markdown",
   "metadata": {
    "deletable": true,
    "editable": true
   },
   "source": [
    "this is the basic algorithm for the `corpushash` library. for more details, check the source code, it is readable.\n",
    "\n",
    "- Create an empty corpus structure (nested list) to hold the hashed tokens;\n",
    "- Create a decoding dictionary: a list of key, value pairs where the key is an encoded token (hash) and the values are the unhashed token and its salt.\n",
    "- Create an encoding dictionary: a list of key, value pairs where the key is a plain token and the value is its cryptographic hash.\n",
    "- Iterate over the unhashed tokens\n",
    "    - Check if the word is in the encoding dictionary;\n",
    "    - If so, add its hash value to the hashed tokens list\n",
    "    - If not, hash it with the addition of a random salt, and add them to the encoding and decoding dictionaries.\n",
    "- Return the hashed corpus and the dictionaries"
   ]
  },
  {
   "cell_type": "markdown",
   "metadata": {
    "deletable": true,
    "editable": true
   },
   "source": [
    "### optional arguments\n",
    "\n",
    "`hash_function`: default is sha-256, but can be any hash function offered by the hashlib library that does not need additional parameters (as does scrypt, for instance)\n",
    "\n",
    "`salt_length`: determines salt length in bytes, default is 32 bytes.\n",
    "\n",
    "`one_salt`: determines if tokens will be hashed with the same salt or one for each token. if `True`, os.urandom generates a salt to be used in all hashings. (**note**: in this case, choose a greater salt length). if `False`, os.urandom will generate a salt for each token.\n",
    "\n",
    "`encoding`: determines the encoding of the outputted `.json` files. default is utf-8, and you probably want to keep it that way.\n",
    "\n",
    "`indent_json`: if `None`, won't indent output `.json` files. if positive integer, will indent using this number of spaces. zero will add, but no indentation. if you don't have nested lists, the default argument `None` is probably the best option, for with large corpora indentation and can take up a lot of space."
   ]
  },
  {
   "cell_type": "markdown",
   "metadata": {
    "deletable": true,
    "editable": true
   },
   "source": [
    "### hashing documents from the same corpus at different times\n",
    "\n",
    "hashing documents from the same corpus at different times is supported in case you produce documents continuously.\n",
    "\n",
    "by specifying a `corpus_path` from a previous instance of `CorpusHash` to this new instance, it'll automatically search for and employ the same dictionaries used in the last hashing, which means the same tokens in the old and new documents will map to the same hash.\n",
    "\n",
    "the files will be saved to a new directory in the `public/` directory, named after the timestamp of this instance of `CorpusHash`."
   ]
  },
  {
   "cell_type": "markdown",
   "metadata": {
    "deletable": true,
    "editable": true
   },
   "source": [
    "**note**: be careful when specifying a previously used `corpus_path` if the above is not what you want to do. if you want new dictionaries, just specify a new `corpus_path`."
   ]
  },
  {
   "cell_type": "markdown",
   "metadata": {
    "deletable": true,
    "editable": true
   },
   "source": [
    "**note**: when specifying a previously used `corpus_path`, take care with the optional arguments of `CorpusHash`. \n",
    "\n",
    "- specifying a different `hash_function` will cause the hashes of the same words in each instance to differ. \n",
    "\n",
    "- if you set `one_salt` to `True`, the library will assume this was also `True` for the previous instances of `CorpusHash`, and will take an arbitrary salt from the `decode_dictionary` as the salt to be used in this instance -- they should all be the same, after all. if `one_salt` was not `True` for the previous instances, this will produce unexpected results.\n",
    "    - additionally, if you pass `one_salt=True` in this situation with any value to `salt_length`, this value will be ignored.\n",
    "    - if you pass `one_salt=True` in this situation with a different value than the last to `hash_function`, any token not hashed in the previous instances will be hashed with a different hash function, which may mean a different hash length, for example. the tokens that were hashed in the previous instances will take the same value as before, because they are looked up in the `encode_dictionary` and not re-hashed."
   ]
  }
 ],
 "metadata": {
  "kernelspec": {
   "display_name": "Python 3",
   "language": "python",
   "name": "python3"
  },
  "language_info": {
   "codemirror_mode": {
    "name": "ipython",
    "version": 3
   },
   "file_extension": ".py",
   "mimetype": "text/x-python",
   "name": "python",
   "nbconvert_exporter": "python",
   "pygments_lexer": "ipython3",
   "version": "3.6.0"
  }
 },
 "nbformat": 4,
 "nbformat_minor": 2
}
